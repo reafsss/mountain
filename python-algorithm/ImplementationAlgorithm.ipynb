{
 "cells": [
  {
   "cell_type": "markdown",
   "metadata": {},
   "source": [
    "# 구현"
   ]
  },
  {
   "cell_type": "markdown",
   "metadata": {},
   "source": [
    "## 상화좌우"
   ]
  },
  {
   "cell_type": "code",
   "execution_count": 4,
   "metadata": {},
   "outputs": [
    {
     "name": "stdout",
     "output_type": "stream",
     "text": [
      "5\n",
      "R R R U D D\n",
      "3 4\n"
     ]
    }
   ],
   "source": [
    "n = int(input())\n",
    "where=input().split()\n",
    "\n",
    "x, y = 1, 1\n",
    "\n",
    "dx=(0, 0, -1, 1)\n",
    "dy=(-1, 1, 0, 0)\n",
    "arrays=['L','R','U','D']\n",
    "\n",
    "for i in where:\n",
    "    for j in range(len(arrays)):\n",
    "        if i == arrays[j]:\n",
    "            nx = x + dx[j]\n",
    "            ny = y + dy[j]\n",
    "        \n",
    "    if nx< 1 or nx > n or ny<1 or ny>n:\n",
    "        continue\n",
    "        \n",
    "    x, y = nx, ny\n",
    "\n",
    "print(x, y)    "
   ]
  },
  {
   "cell_type": "markdown",
   "metadata": {},
   "source": [
    "## 시각: 완전 탐색 유형(Brute Focing)\n",
    "* 가능한 모든 경우의 수 탐색"
   ]
  },
  {
   "cell_type": "code",
   "execution_count": 6,
   "metadata": {},
   "outputs": [
    {
     "name": "stdout",
     "output_type": "stream",
     "text": [
      "5\n",
      "11475\n"
     ]
    }
   ],
   "source": [
    "n = int(input())\n",
    "\n",
    "count=0\n",
    "for hour in range(n+1):\n",
    "    for minute in range(60):\n",
    "        for second in range(60):\n",
    "            if '3' in str(hour)+str(minute)+str(second):\n",
    "                count+=1\n",
    "                \n",
    "print(count)"
   ]
  },
  {
   "cell_type": "markdown",
   "metadata": {},
   "source": [
    "## 왕실의 나이트: 완전 탐색 유형(Brute Focing)"
   ]
  },
  {
   "cell_type": "code",
   "execution_count": 18,
   "metadata": {},
   "outputs": [
    {
     "name": "stdout",
     "output_type": "stream",
     "text": [
      "a1\n",
      "2\n"
     ]
    }
   ],
   "source": [
    "n = input()\n",
    "column = int(ord(n[0]) -int(ord('a'))) + 1\n",
    "row = int(n[1])\n",
    "\n",
    "move=[(2,1),(2,-1),(-2,1),(-2,-1),(1,2),(1,-2),(-1,2),(-1,-2)]\n",
    "\n",
    "count=0\n",
    "for i in move:\n",
    "    if column+i[0]>=1 and row+i[1]>=1 and column+i[0]<=8 and row+i[1]<=8:\n",
    "        count+=1\n",
    "        \n",
    "print(count)"
   ]
  },
  {
   "cell_type": "markdown",
   "metadata": {},
   "source": [
    "## 문자열 재정렬"
   ]
  },
  {
   "cell_type": "code",
   "execution_count": 33,
   "metadata": {},
   "outputs": [
    {
     "name": "stdout",
     "output_type": "stream",
     "text": [
      "ABCKK13\n"
     ]
    }
   ],
   "source": [
    "s ='K1KA5CB7' #INPUT\n",
    "\n",
    "strs=[]\n",
    "value=0\n",
    "for i in s:\n",
    "    if i.isalpha() == True:\n",
    "        strs.append(i)\n",
    "    else :\n",
    "        value+=int(i)\n",
    "        \n",
    "strs.sort()\n",
    "if value != 0:\n",
    "    strs.append(str(value))\n",
    "\n",
    "print(\"\".join(strs))"
   ]
  },
  {
   "cell_type": "code",
   "execution_count": null,
   "metadata": {},
   "outputs": [],
   "source": []
  }
 ],
 "metadata": {
  "kernelspec": {
   "display_name": "Python 3",
   "language": "python",
   "name": "python3"
  },
  "language_info": {
   "codemirror_mode": {
    "name": "ipython",
    "version": 3
   },
   "file_extension": ".py",
   "mimetype": "text/x-python",
   "name": "python",
   "nbconvert_exporter": "python",
   "pygments_lexer": "ipython3",
   "version": "3.8.3"
  },
  "toc": {
   "base_numbering": 1,
   "nav_menu": {},
   "number_sections": true,
   "sideBar": true,
   "skip_h1_title": false,
   "title_cell": "Table of Contents",
   "title_sidebar": "Contents",
   "toc_cell": false,
   "toc_position": {},
   "toc_section_display": true,
   "toc_window_display": false
  },
  "varInspector": {
   "cols": {
    "lenName": 16,
    "lenType": 16,
    "lenVar": 40
   },
   "kernels_config": {
    "python": {
     "delete_cmd_postfix": "",
     "delete_cmd_prefix": "del ",
     "library": "var_list.py",
     "varRefreshCmd": "print(var_dic_list())"
    },
    "r": {
     "delete_cmd_postfix": ") ",
     "delete_cmd_prefix": "rm(",
     "library": "var_list.r",
     "varRefreshCmd": "cat(var_dic_list()) "
    }
   },
   "types_to_exclude": [
    "module",
    "function",
    "builtin_function_or_method",
    "instance",
    "_Feature"
   ],
   "window_display": false
  }
 },
 "nbformat": 4,
 "nbformat_minor": 4
}
