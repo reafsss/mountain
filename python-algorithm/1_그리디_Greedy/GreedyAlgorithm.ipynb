{
 "cells": [
  {
   "cell_type": "markdown",
   "metadata": {},
   "source": [
    "# 그리디 알고리즘\n",
    "* 문제를 해결하는 과정에서 그 순간순간마다 최적이라고 생각되는 결정을 하는 방식으로 진행하여 최종 해답에 도달하는 문제 해결 방식이다."
   ]
  },
  {
   "cell_type": "markdown",
   "metadata": {},
   "source": [
    "## 거스름 돈\n",
    "* 손님에게 N 원을 거슬러 주어야 할 때 거슬러 주어야 할 동전의 최소 개수를 구하기 (거스름돈 500원, 100원, 50원, 10원)"
   ]
  },
  {
   "cell_type": "code",
   "execution_count": 6,
   "metadata": {},
   "outputs": [
    {
     "name": "stdout",
     "output_type": "stream",
     "text": [
      "10\n"
     ]
    }
   ],
   "source": [
    "n = 3260 #Input\n",
    "coins=[500,100,50,10]\n",
    "count=0\n",
    "for i in coins:\n",
    "    count+=n//i\n",
    "    if n == 0:\n",
    "        break\n",
    "    n %= i\n",
    "\n",
    "print(count) #Output"
   ]
  },
  {
   "cell_type": "markdown",
   "metadata": {},
   "source": [
    "## 1일 될 때까지\n",
    "* 어떠한 수 N이 1이 될 때까지 반복적인 연산을 수행한다. 수행해야 하는 연산의 최소 횟수를 구해라. 선택할 수 있는 연산은 다음과 같다.\n",
    "    * N에서 1을 빼기\n",
    "    * N을 K로 나누기"
   ]
  },
  {
   "cell_type": "code",
   "execution_count": 10,
   "metadata": {},
   "outputs": [
    {
     "name": "stdout",
     "output_type": "stream",
     "text": [
      "3\n"
     ]
    }
   ],
   "source": [
    "n, k = 17, 4 #Input\n",
    "result = 0\n",
    "\n",
    "while True:\n",
    "    target = (n//k)*k\n",
    "    result += n-target\n",
    "    n = target\n",
    "    if n < k:\n",
    "        break    \n",
    "    n //= k\n",
    "    result += 1\n",
    "    \n",
    "result += n-1\n",
    "print(result) #Output"
   ]
  },
  {
   "cell_type": "markdown",
   "metadata": {},
   "source": [
    "## 곱하기 혹은 더하기\n",
    "* 각 자리가 숫자로만 이루어진 문자열 S가 주어질 때, 왼쪽부터 오른쪽으로 하나씩 모든 숫자를 확인하며 숫자 사이에 'x' 혹은 '+' 연산자를 넣어 만들 수 있는 가장 큰 수를 구하기"
   ]
  },
  {
   "cell_type": "code",
   "execution_count": 24,
   "metadata": {},
   "outputs": [
    {
     "name": "stdout",
     "output_type": "stream",
     "text": [
      "576\n"
     ]
    }
   ],
   "source": [
    "n = '02984' #Input\n",
    "first=int(n[0])\n",
    "\n",
    "for i in range(1, len(n)):\n",
    "    second=int(n[i])\n",
    "    if first>1 and second>1:\n",
    "        first *= second\n",
    "    else :\n",
    "        first += second\n",
    "    \n",
    "print(first) #Output"
   ]
  },
  {
   "cell_type": "markdown",
   "metadata": {},
   "source": [
    "## 모험가 길드\n",
    "* 마을에 모험가가 N명 존재. 각 모험가는 공포도를 갖고있다. 공포도가 X인 모험가는 반드시 X명 이상으로 구성한 모험가 그룹에 참여해야 한다. 여행을 떠날 수 있는 그룹 수의 최댓값 구하기"
   ]
  },
  {
   "cell_type": "code",
   "execution_count": 27,
   "metadata": {},
   "outputs": [
    {
     "name": "stdout",
     "output_type": "stream",
     "text": [
      "2\n"
     ]
    }
   ],
   "source": [
    "n = 5 #Input\n",
    "panic = [2,3,1,2,2] #Input\n",
    "count = 0\n",
    "group = 0\n",
    "panic.sort()\n",
    "\n",
    "for i in panic:\n",
    "    count += 1\n",
    "    if count >= i:\n",
    "        group += 1\n",
    "        count = 0\n",
    "\n",
    "print(group) #Output"
   ]
  },
  {
   "cell_type": "code",
   "execution_count": null,
   "metadata": {},
   "outputs": [],
   "source": []
  }
 ],
 "metadata": {
  "kernelspec": {
   "display_name": "Python 3",
   "language": "python",
   "name": "python3"
  },
  "language_info": {
   "codemirror_mode": {
    "name": "ipython",
    "version": 3
   },
   "file_extension": ".py",
   "mimetype": "text/x-python",
   "name": "python",
   "nbconvert_exporter": "python",
   "pygments_lexer": "ipython3",
   "version": "3.8.3"
  },
  "toc": {
   "base_numbering": 1,
   "nav_menu": {},
   "number_sections": true,
   "sideBar": true,
   "skip_h1_title": false,
   "title_cell": "Table of Contents",
   "title_sidebar": "Contents",
   "toc_cell": false,
   "toc_position": {},
   "toc_section_display": true,
   "toc_window_display": false
  },
  "varInspector": {
   "cols": {
    "lenName": 16,
    "lenType": 16,
    "lenVar": 40
   },
   "kernels_config": {
    "python": {
     "delete_cmd_postfix": "",
     "delete_cmd_prefix": "del ",
     "library": "var_list.py",
     "varRefreshCmd": "print(var_dic_list())"
    },
    "r": {
     "delete_cmd_postfix": ") ",
     "delete_cmd_prefix": "rm(",
     "library": "var_list.r",
     "varRefreshCmd": "cat(var_dic_list()) "
    }
   },
   "types_to_exclude": [
    "module",
    "function",
    "builtin_function_or_method",
    "instance",
    "_Feature"
   ],
   "window_display": false
  }
 },
 "nbformat": 4,
 "nbformat_minor": 4
}
