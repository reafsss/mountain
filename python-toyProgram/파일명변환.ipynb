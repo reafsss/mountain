{
 "cells": [
  {
   "cell_type": "markdown",
   "id": "5b710c47",
   "metadata": {},
   "source": [
    "# 파일 또는 폴더의 이름 변경\n",
    "* 파이썬의 os 모듈의 rename() 메서드를 사용"
   ]
  },
  {
   "cell_type": "code",
   "execution_count": 6,
   "id": "b62656dc",
   "metadata": {},
   "outputs": [],
   "source": [
    "import os"
   ]
  },
  {
   "cell_type": "markdown",
   "id": "d2dc91de",
   "metadata": {},
   "source": [
    "## 이름을 변경하고 싶은 파일이 저장되어 있는 폴더에 접근\n",
    "* 폴더의 경로 설정\n",
    "* 경로에 저장되어 있는 파일들의 이름을 리스트 형태로 저장"
   ]
  },
  {
   "cell_type": "code",
   "execution_count": 10,
   "id": "ac110a8b",
   "metadata": {},
   "outputs": [
    {
     "data": {
      "text/plain": [
       "['1.jpg', '2.jpg', '3.jpg']"
      ]
     },
     "execution_count": 10,
     "metadata": {},
     "output_type": "execute_result"
    }
   ],
   "source": [
    "file_path = 'D:\\\\test7'\n",
    "file_names = os.listdir(file_path)\n",
    "file_names"
   ]
  },
  {
   "cell_type": "markdown",
   "id": "b687d509",
   "metadata": {},
   "source": [
    "## 파일 이름 변환\n",
    "* 반복문 사용\n",
    "* os.path.join를 사용하여 디렉토리를 포함한 이름으로 파일에 접근\n",
    "* os.path.join를 사용하여 디렉토리를 포함한 변경된 이름을 저장\n",
    "* 확장자도 고려하여 파일명을 변경해야 한다"
   ]
  },
  {
   "cell_type": "code",
   "execution_count": 11,
   "id": "442a354e",
   "metadata": {},
   "outputs": [],
   "source": [
    "i = 1\n",
    "for name in file_names:\n",
    "    src = os.path.join(file_path, name)\n",
    "    dst = str(i) + '.jpg'\n",
    "    dst = os.path.join(file_path, dst)\n",
    "    os.rename(src, dst)\n",
    "    i += 1"
   ]
  },
  {
   "cell_type": "markdown",
   "id": "94165a22",
   "metadata": {},
   "source": [
    "# 확인"
   ]
  },
  {
   "cell_type": "code",
   "execution_count": 12,
   "id": "3cec6b88",
   "metadata": {},
   "outputs": [
    {
     "data": {
      "text/plain": [
       "['1.jpg', '2.jpg', '3.jpg']"
      ]
     },
     "execution_count": 12,
     "metadata": {},
     "output_type": "execute_result"
    }
   ],
   "source": [
    "file_names = os.listdir(file_path)\n",
    "file_names"
   ]
  },
  {
   "cell_type": "code",
   "execution_count": null,
   "id": "97c63a2b",
   "metadata": {},
   "outputs": [],
   "source": []
  }
 ],
 "metadata": {
  "kernelspec": {
   "display_name": "Python 3",
   "language": "python",
   "name": "python3"
  },
  "language_info": {
   "codemirror_mode": {
    "name": "ipython",
    "version": 3
   },
   "file_extension": ".py",
   "mimetype": "text/x-python",
   "name": "python",
   "nbconvert_exporter": "python",
   "pygments_lexer": "ipython3",
   "version": "3.8.8"
  }
 },
 "nbformat": 4,
 "nbformat_minor": 5
}
